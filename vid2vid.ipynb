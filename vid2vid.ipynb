{
  "nbformat": 4,
  "nbformat_minor": 0,
  "metadata": {
    "colab": {
      "name": "vid2vid.ipynb",
      "provenance": [],
      "collapsed_sections": [],
      "include_colab_link": true
    },
    "kernelspec": {
      "name": "python3",
      "display_name": "Python 3"
    },
    "accelerator": "GPU"
  },
  "cells": [
    {
      "cell_type": "markdown",
      "metadata": {
        "id": "view-in-github",
        "colab_type": "text"
      },
      "source": [
        "<a href=\"https://colab.research.google.com/github/sarrbranka/vid2vid_colab/blob/main/vid2vid.ipynb\" target=\"_parent\"><img src=\"https://colab.research.google.com/assets/colab-badge.svg\" alt=\"Open In Colab\"/></a>"
      ]
    },
    {
      "cell_type": "code",
      "metadata": {
        "id": "bCKBNrs2DYxJ"
      },
      "source": [
        "!nvidia-smi #15G or more"
      ],
      "execution_count": null,
      "outputs": []
    },
    {
      "cell_type": "code",
      "metadata": {
        "id": "9k77wfTsDzNt"
      },
      "source": [
        "!git clone https://github.com/NVIDIA/vid2vid"
      ],
      "execution_count": null,
      "outputs": []
    },
    {
      "cell_type": "code",
      "metadata": {
        "id": "3S3ZJwhQG1-V"
      },
      "source": [
        "!pip install dominate requests"
      ],
      "execution_count": null,
      "outputs": []
    },
    {
      "cell_type": "code",
      "metadata": {
        "id": "tLSISEg6D6IB"
      },
      "source": [
        "%cd /content/vid2vid/  #2e6d137 on Jul 4, 2019\n",
        "!python scripts/download_datasets.py"
      ],
      "execution_count": null,
      "outputs": []
    },
    {
      "cell_type": "code",
      "metadata": {
        "id": "NMK5dRqaEhCj"
      },
      "source": [
        "#After running this cell, Restart runtime from Runtime above. shortcut for restarting \"Ctrl + M\"\n",
        "!pip install -U https://download.pytorch.org/whl/cu100/torch-1.0.0-cp36-cp36m-linux_x86_64.whl \n",
        "!pip install torchvision==0.2.2\n",
        "!pip install \"pillow<7\""
      ],
      "execution_count": null,
      "outputs": []
    },
    {
      "cell_type": "code",
      "metadata": {
        "id": "YAfjsCIrJtUD"
      },
      "source": [
        "#!pip install -U https://download.pytorch.org/whl/cu100/torch-1.1.0-cp36-cp36m-linux_x86_64.whl\n",
        "#!pip install torchvision==0.3.0\n",
        "#!pip install \"pillow<7\""
      ],
      "execution_count": null,
      "outputs": []
    },
    {
      "cell_type": "code",
      "metadata": {
        "id": "3POsyllfJ0Rl"
      },
      "source": [
        "#!pip install -U https://download.pytorch.org/whl/cu101/torch-1.4.0-cp36-cp36m-linux_x86_64.whl\n",
        "#!pip install torchvision==0.5.0\n",
        "#!pip install \"pillow<7\""
      ],
      "execution_count": null,
      "outputs": []
    },
    {
      "cell_type": "code",
      "metadata": {
        "id": "ttXD9TFYETVx"
      },
      "source": [
        "%cd /content/vid2vid/\n",
        "!python scripts/download_flownet2.py"
      ],
      "execution_count": null,
      "outputs": []
    },
    {
      "cell_type": "code",
      "metadata": {
        "id": "QI9CxM2VEUAX"
      },
      "source": [
        "!python scripts/download_models_flownet2.py"
      ],
      "execution_count": null,
      "outputs": []
    },
    {
      "cell_type": "code",
      "metadata": {
        "id": "om0L5FXMJfem"
      },
      "source": [
        "!python scripts/street/download_models.py"
      ],
      "execution_count": null,
      "outputs": []
    },
    {
      "cell_type": "code",
      "metadata": {
        "id": "PIfuomNoH46n"
      },
      "source": [
        "%cd /content/vid2vid/\n",
        "!python test.py --name label2city_2048 --label_nc 35 --loadSize 2048 --n_scales_spatial 3 --use_instance --fg --use_single_G"
      ],
      "execution_count": null,
      "outputs": []
    }
  ]
}